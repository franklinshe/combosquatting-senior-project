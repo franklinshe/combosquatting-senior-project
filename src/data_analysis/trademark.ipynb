{
 "cells": [
  {
   "cell_type": "code",
   "execution_count": 30,
   "metadata": {},
   "outputs": [
    {
     "data": {
      "image/png": "[encoded data removed]",
      "text/plain": [
       "<Figure size 720x432 with 1 Axes>"
      ]
     },
     "metadata": {
      "needs_background": "light"
     },
     "output_type": "display_data"
    },
    {
     "name": "stdout",
     "output_type": "stream",
     "text": [
      "Summary Statistics:\n",
      "            Matches\n",
      "count  8.070000e+02\n",
      "mean   3.570835e+04\n",
      "std    3.160494e+05\n",
      "min    0.000000e+00\n",
      "25%    1.125000e+02\n",
      "50%    5.960000e+02\n",
      "75%    3.986500e+03\n",
      "max    7.784622e+06\n"
     ]
    }
   ],
   "source": [
    "import pandas as pd\n",
    "import numpy as np\n",
    "import matplotlib.pyplot as plt\n",
    "\n",
    "# Load the CSV data\n",
    "csv_file = '../../data/raw/summary_statistics.csv'\n",
    "data = pd.read_csv(csv_file)\n",
    "\n",
    "# Summary statistics before transformation\n",
    "summary_stats = data.describe()\n",
    "\n",
    "# Histogram before transformation\n",
    "plt.figure(figsize=(10, 6))\n",
    "plt.hist(data['Matches'], bins=20, edgecolor='k', alpha=0.7)\n",
    "plt.title('Histogram of Matches (Before Transformation)')\n",
    "plt.xlabel('Matches')\n",
    "plt.ylabel('Frequency')# Identify outliers using z-scores\n",
    "mean_matches = np.mean(data['Matches'])\n",
    "std_dev_matches = np.std(data['Matches'])\n",
    "z_scores = (data['Matches'] - mean_matches) / std_dev_matches\n",
    "plt.grid(True)\n",
    "plt.show()\n",
    "\n",
    "print(\"Summary Statistics:\")\n",
    "print(summary_stats)"
   ]
  },
  {
   "cell_type": "code",
   "execution_count": 31,
   "metadata": {},
   "outputs": [
    {
     "name": "stdout",
     "output_type": "stream",
     "text": [
      "Z-Score Cutoff: 2\n",
      "Cutoff for Matches: 144614.08\n"
     ]
    }
   ],
   "source": [
    "z_score_cutoff = 2\n",
    "\n",
    "# Adding a small constant to handle zero or negative values\n",
    "data['Matches'] = data['Matches'] + 1\n",
    "\n",
    "# Apply a logarithmic transformation\n",
    "data['Log_Matches'] = np.log(data['Matches'])\n",
    "\n",
    "# Calculate z-scores based on the transformed data\n",
    "mean_log_matches = np.mean(data['Log_Matches'])\n",
    "std_dev_log_matches = np.std(data['Log_Matches'])\n",
    "z_scores = (data['Log_Matches'] - mean_log_matches) / std_dev_log_matches\n",
    "\n",
    "cutoff_matches = np.exp(mean_log_matches + z_score_cutoff * std_dev_log_matches)\n",
    "print(f\"Z-Score Cutoff: {z_score_cutoff}\")\n",
    "print(f\"Cutoff for Matches: {cutoff_matches:.2f}\")\n"
   ]
  },
  {
   "cell_type": "code",
   "execution_count": 32,
   "metadata": {},
   "outputs": [
    {
     "name": "stdout",
     "output_type": "stream",
     "text": [
      "Outliers Removed:\n",
      "    Trademark  Matches  Log_Matches\n",
      "14         qq   344716    12.750476\n",
      "19       bing   174799    12.071392\n",
      "32         vk   320230    12.676795\n",
      "97       ring   877393    13.684710\n",
      "109       who   249841    12.428580\n",
      "114      ally   185108    12.128695\n",
      "123        hp   815321    13.611337\n",
      "136       mit   718902    13.485480\n",
      "159      ford   290982    12.581017\n",
      "167        un  7784623    15.867661\n",
      "192      line  1374282    14.133442\n",
      "196     unity   177383    12.086067\n",
      "211       npr   300009    12.611568\n",
      "225      time   417544    12.942145\n",
      "243       ted   932746    13.745888\n",
      "268        1c   336588    12.726615\n",
      "286       360   186935    12.138516\n",
      "308       ivi   766339    13.549380\n",
      "313       box   389372    12.872290\n",
      "323       ups   181332    12.108085\n",
      "363       sap   250428    12.430927\n",
      "387        hm  1094133    13.905473\n",
      "402        ey  3372036    15.031027\n",
      "420        lg  1086161    13.898160\n",
      "462       rei   520514    13.162572\n",
      "493      ulta   199338    12.202757\n",
      "591      audi   207580    12.243272\n",
      "598     coach   368534    12.817288\n",
      "697       kay   154899    11.950529\n",
      "Number of Outliers Removed: 29\n"
     ]
    },
    {
     "data": {
      "image/png": "[encoded data removed]",
      "text/plain": [
       "<Figure size 720x432 with 1 Axes>"
      ]
     },
     "metadata": {
      "needs_background": "light"
     },
     "output_type": "display_data"
    }
   ],
   "source": [
    "# Identify large outliers based on z-scores\n",
    "outliers = data[z_scores > z_score_cutoff]\n",
    "\n",
    "# Remove large outliers from the original DataFrame\n",
    "data_filtered = data[z_scores <= z_score_cutoff]\n",
    "\n",
    "# Print the list of outliers that were removed\n",
    "print(\"Outliers Removed:\")\n",
    "print(outliers)\n",
    "print(\"Number of Outliers Removed:\", len(outliers))\n",
    "\n",
    "# Histogram of the transformed data\n",
    "import matplotlib.pyplot as plt\n",
    "plt.figure(figsize=(10, 6))\n",
    "plt.hist(data_filtered['Log_Matches'], bins=20, edgecolor='k', alpha=0.7)\n",
    "plt.title('Histogram of Log-transformed Matches (Outliers Removed)')\n",
    "plt.xlabel('Log Matches')\n",
    "plt.ylabel('Frequency')\n",
    "plt.grid(True)\n",
    "plt.show()"
   ]
  },
  {
   "cell_type": "code",
   "execution_count": 33,
   "metadata": {},
   "outputs": [
    {
     "name": "stdout",
     "output_type": "stream",
     "text": [
      "Sum of All Matches: 28817449\n",
      "Sum of Matches for Outliers: 24078068\n",
      "Percentage of Matches that are Outliers: 83.55%\n",
      "Number of All Trademarks: 807\n",
      "Number of Outliers: 29\n",
      "Percentage of Trademarks that are Outliers: 3.59%\n"
     ]
    }
   ],
   "source": [
    "# Calculate the sum of all matches\n",
    "total_matches_sum = data['Matches'].sum()\n",
    "\n",
    "# Calculate the sum of matches for outliers\n",
    "outliers_matches_sum = outliers['Matches'].sum()\n",
    "\n",
    "# Print the comparison\n",
    "print(f\"Sum of All Matches: {total_matches_sum}\")\n",
    "print(f\"Sum of Matches for Outliers: {outliers_matches_sum}\")\n",
    "\n",
    "# Calculate the percentage of matches that are outliers\n",
    "percentage_outliers = (outliers_matches_sum / total_matches_sum) * 100\n",
    "print(f\"Percentage of Matches that are Outliers: {percentage_outliers:.2f}%\")\n",
    "\n",
    "# Calculate the number of all trademarks (entries) and the number of outliers\n",
    "total_trademarks = len(data)\n",
    "number_of_outliers = len(outliers)\n",
    "\n",
    "# Print the comparison\n",
    "print(f\"Number of All Trademarks: {total_trademarks}\")\n",
    "print(f\"Number of Outliers: {number_of_outliers}\")\n",
    "\n",
    "# Calculate the percentage of trademarks that are outliers\n",
    "percentage_trademarks_outliers = (number_of_outliers / total_trademarks) * 100\n",
    "print(f\"Percentage of Trademarks that are Outliers: {percentage_trademarks_outliers:.2f}%\")"
   ]
  },
  {
   "cell_type": "code",
   "execution_count": 34,
   "metadata": {},
   "outputs": [],
   "source": [
    "# Get the directory path of the original CSV file\n",
    "import os\n",
    "csv_directory = os.path.dirname(csv_file)\n",
    "\n",
    "# Specify the name of the outliers CSV file\n",
    "outliers_csv_file = os.path.join(csv_directory, 'outliers.csv')\n",
    "\n",
    "# Save outliers (just the trademark) into a CSV file in the same folder\n",
    "outliers[['Trademark']].to_csv(outliers_csv_file, index=False)"
   ]
  }
 ],
 "metadata": {
  "kernelspec": {
   "display_name": "Python 3",
   "language": "python",
   "name": "python3"
  },
  "language_info": {
   "codemirror_mode": {
    "name": "ipython",
    "version": 3
   },
   "file_extension": ".py",
   "mimetype": "text/x-python",
   "name": "python",
   "nbconvert_exporter": "python",
   "pygments_lexer": "ipython3",
   "version": "3.11.6"
  }
 },
 "nbformat": 4,
 "nbformat_minor": 2
}
